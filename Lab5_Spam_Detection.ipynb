{
  "cells": [
    {
      "cell_type": "markdown",
      "metadata": {
        "id": "_bphECiUa9zw"
      },
      "source": [
        "# Lab 5: Spam Detection\n",
        "\n",
        "In this assignment, we will build a recurrent neural network to classify a SMS text message\n",
        "as \"spam\" or \"not spam\". In the process, you will\n",
        "    \n",
        "1. Clean and process text data for machine learning.\n",
        "2. Understand and implement a character-level recurrent neural network.\n",
        "3. Understand batching for a recurrent neural network, and develop custom Dataset and DataLoaders with collate_fn to implement RNN batching.\n",
        "\n",
        "### What to submit\n",
        "\n",
        "Submit a PDF file containing all your code, outputs, and write-up. You can produce a PDF of your Google Colab file by going to File > Print and then save as PDF. The Colab instructions have more information.\n",
        "\n",
        "Do not submit any other files produced by your code.\n",
        "\n",
        "Include a link to your colab file in your submission."
      ]
    },
    {
      "cell_type": "markdown",
      "metadata": {
        "id": "rWiUqJJTa9z6"
      },
      "source": [
        "## Colab Link\n",
        "\n",
        "Include a link to your Colab file here. If you would like the TA to look at your\n",
        "Colab file in case your solutions are cut off, **please make sure that your Colab\n",
        "file is publicly accessible at the time of submission**.\n",
        "\n",
        "https://drive.google.com/file/d/10mLWQaG5wSaEY1GckQbmGFfbv2geq_Cv/view?usp=sharing"
      ]
    },
    {
      "cell_type": "code",
      "execution_count": null,
      "metadata": {
        "id": "HgfNOUaPa9z8",
        "tags": [],
        "colab": {
          "base_uri": "https://localhost:8080/"
        },
        "outputId": "e30b723d-669b-4475-cd78-788d942acfd4"
      },
      "outputs": [
        {
          "output_type": "execute_result",
          "data": {
            "text/plain": [
              "<torch._C.Generator at 0x7c61a18c7010>"
            ]
          },
          "metadata": {},
          "execution_count": 17
        }
      ],
      "source": [
        "import torch\n",
        "import torch.nn as nn\n",
        "import torch.nn.functional as F\n",
        "import torch.optim as optim\n",
        "import numpy as np\n",
        "from torch.nn.utils.rnn import pad_sequence\n",
        "from torch.utils.data import DataLoader, Dataset\n",
        "import matplotlib.pyplot as plt\n",
        "\n",
        "torch.manual_seed(10)\n",
        "\n"
      ]
    },
    {
      "cell_type": "markdown",
      "metadata": {
        "id": "M0jLI9LBa90C"
      },
      "source": [
        "## Part 1. Data Cleaning [15 pt]\n",
        "\n",
        "We will be using the \"SMS Spam Collection Data Set\" available at http://archive.ics.uci.edu/ml/datasets/SMS+Spam+Collection\n",
        "\n",
        "There is a link to download the \"Data Folder\" at the very top of the webpage. Download the zip file, unzip it, and upload the file `SMSSpamCollection` to Colab.    "
      ]
    },
    {
      "cell_type": "markdown",
      "metadata": {
        "id": "sSuF7C_Ga90E"
      },
      "source": [
        "### Part (a) [1 pt]\n",
        "\n",
        "Open up the file in Python, and print out one example of a spam SMS, and one example of a non-spam SMS.\n",
        "\n",
        "What is the label value for a spam message, and what is the label value for a non-spam message?"
      ]
    },
    {
      "cell_type": "code",
      "execution_count": null,
      "metadata": {
        "collapsed": true,
        "id": "I_IfXHeTa90F",
        "jupyter": {
          "outputs_hidden": true
        },
        "colab": {
          "base_uri": "https://localhost:8080/"
        },
        "outputId": "e0b234ef-14d7-4411-e028-2fcb9f2d38af"
      },
      "outputs": [
        {
          "output_type": "stream",
          "name": "stdout",
          "text": [
            "Non-spam ex:  ham\tGo until jurong point, crazy.. Available only in bugis n great world la e buffet... Cine there got amore wat...\n",
            "\n",
            "Spam ex:  spam\tFree entry in 2 a wkly comp to win FA Cup final tkts 21st May 2005. Text FA to 87121 to receive entry question(std txt rate)T&C's apply 08452810075over18's\n",
            "\n"
          ]
        }
      ],
      "source": [
        "for line in open('SMSSpamCollection'):\n",
        "    if line[0:3]==\"ham\":\n",
        "        print(\"Non-spam ex: \", line)\n",
        "        break\n",
        "for line in open('SMSSpamCollection'):\n",
        "    if line[0:4]==\"spam\":\n",
        "        print(\"Spam ex: \", line)\n",
        "        break"
      ]
    },
    {
      "cell_type": "markdown",
      "source": [
        "The label value for a spam message is \"spam\", and the label value for a non-spam message is \"ham\"."
      ],
      "metadata": {
        "id": "WnfOYAj6dMIv"
      }
    },
    {
      "cell_type": "markdown",
      "metadata": {
        "id": "AukA6vMVa90d"
      },
      "source": [
        "### Part (b) [1 pt]\n",
        "\n",
        "How many spam messages are there in the data set?\n",
        "How many non-spam messages are there in the data set?\n"
      ]
    },
    {
      "cell_type": "code",
      "execution_count": null,
      "metadata": {
        "collapsed": true,
        "id": "LgsqyemVa90e",
        "jupyter": {
          "outputs_hidden": true
        },
        "colab": {
          "base_uri": "https://localhost:8080/"
        },
        "outputId": "4d06505c-13d5-4532-fbe9-b4b27f341a66"
      },
      "outputs": [
        {
          "output_type": "stream",
          "name": "stdout",
          "text": [
            "Number of spam messages:\t 747\n",
            "Number of non-spam messages:\t 4827\n"
          ]
        }
      ],
      "source": [
        "texts = []\n",
        "for line in open('SMSSpamCollection'):\n",
        "    data = line.strip().split('\\t')\n",
        "    data.reverse()\n",
        "    texts.append(data)\n",
        "\n",
        "n_spam = sum(map(lambda d: 1 if d[1]=='spam' else 0, texts))\n",
        "n_non_spam = sum(map(lambda d: 1 if d[1]!='spam' else 0, texts))\n",
        "print('Number of spam messages:\\t', n_spam)\n",
        "print('Number of non-spam messages:\\t', n_non_spam)"
      ]
    },
    {
      "cell_type": "markdown",
      "metadata": {
        "id": "d1WXxVt6a90h"
      },
      "source": [
        "### Part (c) [4 pt]\n",
        "\n",
        "load and parse the data into two lists: sequences and labels. Create character-level stoi and itos dictionaries. Reserve the index 0 for padding. Convert the sequences to list of character ids using stoi dictionary and convert the labels to a list of 0s and 1s by assinging class \"ham\" to 0 and class \"spam\" to 1."
      ]
    },
    {
      "cell_type": "code",
      "execution_count": null,
      "metadata": {
        "id": "Mhnz8Nk-a90i",
        "tags": []
      },
      "outputs": [],
      "source": [
        "sequences = []\n",
        "labels = []\n",
        "all_chars = set()\n",
        "\n",
        "for line in open('SMSSpamCollection'):\n",
        "    label, message = line.strip().split(\"\\t\")\n",
        "    sequences.append(message)\n",
        "    labels.append(0 if label == 'ham' else 1)\n",
        "    all_chars.update(message)\n",
        "\n",
        "itos = ['<pad>', '<unk>'] + sorted(all_chars)\n",
        "stoi = {ch: idx for idx, ch in enumerate(itos)}\n",
        "\n",
        "sequences_as_ids = [[stoi.get(char, 1) for char in seq] for seq in sequences]\n"
      ]
    },
    {
      "cell_type": "markdown",
      "metadata": {
        "id": "ie_D0bv9a90k"
      },
      "source": [
        "### Part (d) [4 pt]\n",
        "\n",
        "Use train_test_split function from sklearn (https://scikit-learn.org/dev/modules/generated/sklearn.model_selection.train_test_split.html) to split the data indices into `train`, `valid`, and `test`. Use a 60-20-20 split.\n",
        "\n",
        "You saw in part (b) that there are many more non-spam messages than spam messages. This **imbalance** in our training data will be problematic for training. We can fix this disparity by duplicating spam messages in the training set, so that the training set is roughly balanced."
      ]
    },
    {
      "cell_type": "code",
      "execution_count": null,
      "metadata": {
        "id": "7yewFz-MAbAX"
      },
      "outputs": [],
      "source": [
        "from sklearn.model_selection import train_test_split\n",
        "\n",
        "# Split the indices into train, validation, and test sets (60%, 20%, 20%)\n",
        "train_index, temp_index, train_labels, temp_labels = train_test_split(\n",
        "    range(len(sequences)), labels, test_size=0.4, stratify=labels\n",
        ")\n",
        "\n",
        "val_index, test_index, val_labels, test_labels = train_test_split(\n",
        "    temp_index, temp_labels, test_size=0.5, stratify=temp_labels\n",
        ")\n",
        "\n",
        "train_x = [sequences[idx] for idx in train_index]\n",
        "train_y = [labels[idx] for idx in train_index]\n",
        "val_x = [sequences[idx] for idx in val_index]\n",
        "val_y = [labels[idx] for idx in val_index]\n",
        "test_x = [sequences[idx] for idx in test_index]\n",
        "test_y = [labels[idx] for idx in test_index]\n",
        "\n",
        "#Balance the train classes\n",
        "train_spam = []\n",
        "for idx, item in enumerate(train_x):\n",
        "    if train_y[idx] == 1:\n",
        "        train_spam.append(item)\n",
        "# duplicate each spam message 6 more times\n",
        "train_x = train_x + train_spam * 6\n",
        "train_y = train_y + [1] * (len(train_spam) * 6)"
      ]
    },
    {
      "cell_type": "markdown",
      "metadata": {
        "id": "v6nP0Ks_a90o"
      },
      "source": [
        "### Part (e) [4 pt]\n",
        "\n",
        "Since each sequence has a different length, we cannot use the default DataLoader. We need to change the DataLoader such that it can pad differnt sequence sizes within the batch. To do this, we need to introduce a **collate_fn** to the DataLoader such that it uses **pad_sequence** function (https://pytorch.org/docs/stable/generated/torch.nn.utils.rnn.pad_sequence.html) to pad the sequences within the batch to the same size.\n",
        "\n",
        "We also need a custom Dataset class to return a pair of sequence and label for each example. Complete the code below to address these.\n",
        "\n",
        "Hint:\n",
        "- https://stanford.edu/~shervine/blog/pytorch-how-to-generate-data-parallel\n",
        "- https://plainenglish.io/blog/understanding-collate-fn-in-pytorch-f9d1742647d3"
      ]
    },
    {
      "cell_type": "code",
      "execution_count": null,
      "metadata": {
        "collapsed": true,
        "id": "FWvx9_rka90p",
        "jupyter": {
          "outputs_hidden": true
        },
        "colab": {
          "base_uri": "https://localhost:8080/"
        },
        "outputId": "712e5c6d-7e4e-4260-8578-661a3d71564c"
      },
      "outputs": [
        {
          "output_type": "stream",
          "name": "stdout",
          "text": [
            "Batch X shape: torch.Size([32, 338])\n",
            "Batch Y shape: torch.Size([32])\n"
          ]
        }
      ],
      "source": [
        "class MyDataset(Dataset):\n",
        "    def __init__(self, sequences, labels):\n",
        "        self.sequences = sequences\n",
        "        self.labels = labels\n",
        "\n",
        "    def __len__(self):\n",
        "        return len(self.sequences)\n",
        "\n",
        "    def __getitem__(self, idx):\n",
        "        # Return a pair of (sequence, label)\n",
        "        return self.sequences[idx], self.labels[idx]\n",
        "\n",
        "def collate_sequences(batch):\n",
        "    sequences, labels = zip(*batch)\n",
        "\n",
        "    # Convert sequences to a list of character indices (integer IDs)\n",
        "    sequences = [torch.tensor([stoi.get(char, stoi['<unk>']) for char in seq]) for seq in sequences]\n",
        "\n",
        "    # Pad the sequences within the batch to the same length\n",
        "    padded_sequences = pad_sequence(sequences, batch_first=True, padding_value=stoi['<pad>'])\n",
        "\n",
        "    # Convert labels to a tensor\n",
        "    labels = torch.tensor(labels)\n",
        "\n",
        "    return padded_sequences, labels\n",
        "\n",
        "train_loader = DataLoader(dataset=MyDataset(train_x, train_y), batch_size=32, shuffle=True, collate_fn=collate_sequences)\n",
        "val_loader = DataLoader(dataset=MyDataset(val_x, val_y), batch_size=32, shuffle=False, collate_fn=collate_sequences)\n",
        "test_loader = DataLoader(dataset=MyDataset(test_x, test_y), batch_size=32, shuffle=False, collate_fn=collate_sequences)\n",
        "\n",
        "for batch_x, batch_y in train_loader:\n",
        "    print(f\"Batch X shape: {batch_x.shape}\")\n",
        "    print(f\"Batch Y shape: {batch_y.shape}\")\n",
        "    break\n"
      ]
    },
    {
      "cell_type": "markdown",
      "metadata": {
        "id": "Ff5CNk7Qa90y"
      },
      "source": [
        "### Part (f) [1 pt]\n",
        "\n",
        "Take a look at 10 batches in `train_loader`. What is the maximum length of the\n",
        "input sequence in each batch? How many `<pad>` tokens are used in each of the 10\n",
        "batches?"
      ]
    },
    {
      "cell_type": "code",
      "execution_count": null,
      "metadata": {
        "id": "Qwz-rOaha902",
        "tags": [],
        "colab": {
          "base_uri": "https://localhost:8080/"
        },
        "outputId": "c63d58e6-54b0-403e-b7b8-288d479ebdf7"
      },
      "outputs": [
        {
          "output_type": "stream",
          "name": "stdout",
          "text": [
            "Max Lengths in the first 10 batches: [185, 208, 204, 160, 159, 316, 588, 205, 320, 166]\n",
            "Pad Counts in the first 10 batches: [2136, 3408, 3213, 1287, 2353, 6220, 14809, 3619, 6299, 1571]\n"
          ]
        }
      ],
      "source": [
        "# Initialize variables to store results\n",
        "max_lengths = []\n",
        "pad_counts = []\n",
        "\n",
        "# Loop through the first 10 batches in the train_loader\n",
        "for i, (sequences, labels) in enumerate(train_loader):\n",
        "    if i >= 10:\n",
        "        break\n",
        "\n",
        "    # Get the max length of the sequences in this batch\n",
        "    max_length = sequences.size(1)\n",
        "    max_lengths.append(max_length)\n",
        "\n",
        "    # Count how many <pad> tokens are used in this batch\n",
        "    pad_count = torch.sum(sequences == stoi['<pad>']).item()\n",
        "    pad_counts.append(pad_count)\n",
        "\n",
        "# Output the results for max length and pad count in the batches\n",
        "print(\"Max Lengths in the first 10 batches:\", max_lengths)\n",
        "print(\"Pad Counts in the first 10 batches:\", pad_counts)\n"
      ]
    },
    {
      "cell_type": "markdown",
      "metadata": {
        "id": "y7HnqP6_a904"
      },
      "source": [
        "## Part 2. Model Building [8 pt]\n",
        "\n",
        "Build a recurrent neural network model, using an architecture of your choosing.\n",
        "Use the one-hot embedding of each character as input to your recurrent network.\n",
        "Use one or more fully-connected layers to make the prediction based on your\n",
        "recurrent network output.\n",
        "\n",
        "Instead of using the RNN output value for the final token, another often used\n",
        "strategy is to max-pool over the entire output array. That is, instead of calling\n",
        "something like:\n",
        "\n",
        "```\n",
        "out, _ = self.rnn(x)\n",
        "self.fc(out[:, -1, :])\n",
        "```\n",
        "\n",
        "where `self.rnn` is an `nn.RNN`, `nn.GRU`, or `nn.LSTM` module, and `self.fc` is a\n",
        "fully-connected\n",
        "layer, we use:\n",
        "\n",
        "```\n",
        "out, _ = self.rnn(x)\n",
        "self.fc(torch.max(out, dim=1)[0])\n",
        "```\n",
        "\n",
        "This works reasonably in practice. An even better alternative is to concatenate the\n",
        "max-pooling and average-pooling of the RNN outputs:\n",
        "\n",
        "```\n",
        "out, _ = self.rnn(x)\n",
        "out = torch.cat([torch.max(out, dim=1)[0],\n",
        "                 torch.mean(out, dim=1)], dim=1)\n",
        "self.fc(out)\n",
        "```\n",
        "\n",
        "We encourage you to try out all these options. The way you pool the RNN outputs\n",
        "is one of the \"hyperparameters\" that you can choose to tune later on."
      ]
    },
    {
      "cell_type": "code",
      "execution_count": null,
      "metadata": {
        "collapsed": true,
        "id": "jHl1p_Wwa905",
        "jupyter": {
          "outputs_hidden": true
        },
        "colab": {
          "base_uri": "https://localhost:8080/"
        },
        "outputId": "cebf195f-36c2-4b1e-e43e-cb8a4bf3ed89"
      },
      "outputs": [
        {
          "output_type": "stream",
          "name": "stdout",
          "text": [
            "tensor([1., 0., 0., 0., 0., 0., 0., 0., 0., 0.])\n",
            "tensor([0., 1., 0., 0., 0., 0., 0., 0., 0., 0.])\n",
            "tensor([[[0., 1., 0., 0., 0., 0., 0., 0., 0., 0.],\n",
            "         [0., 0., 1., 0., 0., 0., 0., 0., 0., 0.]],\n",
            "\n",
            "        [[0., 0., 0., 1., 0., 0., 0., 0., 0., 0.],\n",
            "         [0., 0., 0., 0., 1., 0., 0., 0., 0., 0.]]])\n",
            "Vocabulary size: 118\n"
          ]
        }
      ],
      "source": [
        "# You might find this code helpful for obtaining\n",
        "# PyTorch one-hot vectors.\n",
        "\n",
        "ident = torch.eye(10)\n",
        "print(ident[0]) # one-hot vector\n",
        "print(ident[1]) # one-hot vector\n",
        "x = torch.tensor([[1, 2], [3, 4]])\n",
        "print(ident[x]) # one-hot vectors\n",
        "\n",
        "vocab_size = len(itos)\n",
        "print(\"Vocabulary size:\", vocab_size)"
      ]
    },
    {
      "cell_type": "code",
      "execution_count": null,
      "metadata": {
        "collapsed": true,
        "id": "4LTQ7zFka909",
        "jupyter": {
          "outputs_hidden": true
        }
      },
      "outputs": [],
      "source": [
        "class RNN(nn.Module):\n",
        "    def __init__(self, vocab_size, hidden_size, n_layers=1):\n",
        "        super(RNN, self).__init__()\n",
        "\n",
        "        # Recurrent neural network (GRU)\n",
        "        self.rnn = nn.GRU(vocab_size, hidden_size, n_layers, batch_first=True)\n",
        "\n",
        "        # A fully-connected layer that classifies the input into SPAM/HAM\n",
        "        self.classifier = nn.Linear(hidden_size, 2)  # hidden_size is the output size of GRU\n",
        "\n",
        "    def forward(self, x):\n",
        "        # One-hot encoding of input indices, assuming x is of shape [batch_size, seq_len]\n",
        "        one_hot = F.one_hot(x, num_classes=self.rnn.input_size).float()\n",
        "\n",
        "        # Get the output from the GRU layer\n",
        "        output, _ = self.rnn(one_hot)  # Shape: [batch_size, seq_len, hidden_size]\n",
        "\n",
        "        # Max-pooling the GRU output across sequence length (dim=1)\n",
        "        out = torch.max(output, dim=1)[0]  # Shape: [batch_size, hidden_size]\n",
        "\n",
        "        # Classifier: Predict SPAM/HAM\n",
        "        out = self.classifier(out)  # Shape: [batch_size, 2]\n",
        "\n",
        "        return out"
      ]
    },
    {
      "cell_type": "markdown",
      "metadata": {
        "id": "vKIYPl_Ba90_"
      },
      "source": [
        "## Part 3. Training [16 pt]\n",
        "\n",
        "### Part (a) [4 pt]\n",
        "\n",
        "Complete the `get_accuracy` function, which will compute the\n",
        "accuracy (rate) of your model across a dataset (e.g. validation set)."
      ]
    },
    {
      "cell_type": "code",
      "execution_count": null,
      "metadata": {
        "collapsed": true,
        "id": "pvNfhGD6a91A",
        "jupyter": {
          "outputs_hidden": true
        }
      },
      "outputs": [],
      "source": [
        "def get_accuracy(model, data):\n",
        "    \"\"\" Compute the accuracy of the `model` across a dataset `data`\n",
        "\n",
        "    Example usage:\n",
        "\n",
        "    >>> model = MyRNN() # to be defined\n",
        "    >>> get_accuracy(model, valid) # the variable `valid` is from above\n",
        "    \"\"\"\n",
        "\n",
        "    correct, total = 0, 0\n",
        "    model.eval()  # Set model to evaluation mode\n",
        "    with torch.no_grad():  # No need to compute gradients during evaluation\n",
        "        for sms, labels in data:\n",
        "            output = model(sms)  # Model's output is [batch_size, 2]\n",
        "\n",
        "            # Make sure the output is [batch_size, 2]\n",
        "            if output.dim() == 2:\n",
        "                # Find the predicted class by taking the argmax along dim=1 (the second dimension)\n",
        "                pred = output.max(1, keepdim=True)[1]\n",
        "                correct += pred.eq(labels.view_as(pred)).sum().item()\n",
        "                total += labels.size(0)\n",
        "            else:\n",
        "                print(f\"Unexpected output shape: {output.shape}\")\n",
        "\n",
        "    accuracy = 100 * correct / total\n",
        "    return accuracy"
      ]
    },
    {
      "cell_type": "markdown",
      "metadata": {
        "id": "TlxlcAC1a91C"
      },
      "source": [
        "### Part (b) [4 pt]\n",
        "\n",
        "Train your model. Plot the training curve of your final model.\n",
        "Your training curve should have the training/validation loss and\n",
        "accuracy plotted periodically.\n",
        "\n",
        "Note: Not all of your batches will have the same batch size.\n",
        "In particular, if your training set does not divide evenly by\n",
        "your batch size, there will be a batch that is smaller than\n",
        "the rest."
      ]
    },
    {
      "cell_type": "code",
      "source": [
        "def train_rnn_network(model, train, valid, num_epochs=5, learning_rate=1e-4):\n",
        "    optimizer = torch.optim.Adam(model.parameters(), lr=learning_rate)\n",
        "    criterion = nn.CrossEntropyLoss()\n",
        "    it = 0\n",
        "    losses, train_acc, valid_acc = [], [], []\n",
        "    epochs = []\n",
        "\n",
        "    for epoch in range(num_epochs):\n",
        "        avg_loss = 0\n",
        "        correct_train, total_train = 0, 0\n",
        "\n",
        "        model.train()  # Set model to training mode\n",
        "        for sms, labels in train:\n",
        "            optimizer.zero_grad()\n",
        "\n",
        "            # sms is a tensor of shape [batch_size, seq_len], pass it directly to the model\n",
        "            pred = model(sms)  # Corrected input to the model\n",
        "            loss = criterion(pred, labels)\n",
        "            loss.backward()\n",
        "            optimizer.step()\n",
        "\n",
        "            avg_loss += loss.item()\n",
        "\n",
        "            # Calculate training accuracy\n",
        "            _, predicted = torch.max(pred, 1)\n",
        "            correct_train += (predicted == labels).sum().item()\n",
        "            total_train += labels.size(0)\n",
        "\n",
        "        losses.append(avg_loss / len(train))  # Average loss over all batches\n",
        "        epochs.append(epoch + 1)\n",
        "        train_acc.append(100 * correct_train / total_train)  # Training accuracy\n",
        "        valid_acc.append(get_accuracy(model, valid))  # Validation accuracy\n",
        "        print(f\"Epoch {epoch + 1}; Loss {avg_loss / len(train):.4f}; Train Acc {train_acc[-1]:.4f}; Val Acc {valid_acc[-1]:.4f}\")\n",
        "\n",
        "    # Plotting\n",
        "    plt.figure(figsize=(10,5))\n",
        "\n",
        "    plt.subplot(1, 2, 1)\n",
        "    plt.title(\"Loss\")\n",
        "    plt.plot(epochs, losses, label=\"Loss\")\n",
        "    plt.xlabel(\"Epoch\")\n",
        "    plt.ylabel(\"Loss\")\n",
        "    plt.legend()\n",
        "\n",
        "    plt.subplot(1, 2, 2)\n",
        "    plt.title(\"Accuracy\")\n",
        "    plt.plot(epochs, train_acc, label=\"Train Accuracy\")\n",
        "    plt.plot(epochs, valid_acc, label=\"Validation Accuracy\")\n",
        "    plt.xlabel(\"Epoch\")\n",
        "    plt.ylabel(\"Accuracy\")\n",
        "    plt.legend()\n",
        "\n",
        "    plt.show()\n",
        "\n"
      ],
      "metadata": {
        "id": "4GqkxgZ1kc-i"
      },
      "execution_count": null,
      "outputs": []
    },
    {
      "cell_type": "code",
      "source": [
        "# Initialize the model with a smaller hidden size\n",
        "vocab_size = len(itos)\n",
        "hidden_size = 162  # Choose a smaller hidden size\n",
        "firstRNN = RNN(vocab_size=vocab_size, hidden_size=hidden_size, n_layers=1)\n",
        "\n",
        "# Train the model\n",
        "train_rnn_network(firstRNN, train_loader, val_loader, num_epochs=5, learning_rate=1e-4)\n"
      ],
      "metadata": {
        "colab": {
          "base_uri": "https://localhost:8080/",
          "height": 574
        },
        "collapsed": true,
        "id": "CEh68N2oh8d2",
        "outputId": "28095db0-6f13-4732-875b-2647ea8d046a"
      },
      "execution_count": null,
      "outputs": [
        {
          "output_type": "stream",
          "name": "stdout",
          "text": [
            "Epoch 1; Loss 0.6526; Train Acc 53.9456; Val Acc 94.1704\n",
            "Epoch 2; Loss 0.3122; Train Acc 91.5782; Val Acc 95.4260\n",
            "Epoch 3; Loss 0.2567; Train Acc 91.8435; Val Acc 94.7982\n",
            "Epoch 4; Loss 0.2062; Train Acc 94.5789; Val Acc 94.9776\n",
            "Epoch 5; Loss 0.2046; Train Acc 94.3800; Val Acc 95.4260\n"
          ]
        },
        {
          "output_type": "display_data",
          "data": {
            "text/plain": [
              "<Figure size 1000x500 with 2 Axes>"
            ],
            "image/png": "[encoded data removed]"
          },
          "metadata": {}
        }
      ]
    },
    {
      "cell_type": "code",
      "source": [
        "torch.save(firstRNN.state_dict(), \"first_model\")"
      ],
      "metadata": {
        "id": "xrZAapNMwCuA"
      },
      "execution_count": null,
      "outputs": []
    },
    {
      "cell_type": "markdown",
      "metadata": {
        "id": "fE3eRkDAa91F"
      },
      "source": [
        "### Part (c) [4 pt]\n",
        "\n",
        "Choose at least 4 hyperparameters to tune. Explain how you tuned the hyperparameters.\n",
        "You don't need to include your training curve for every model you trained.\n",
        "Instead, explain what hyperparemters you tuned, what the best validation accuracy was,\n",
        "and the reasoning behind the hyperparameter decisions you made.\n",
        "\n",
        "For this assignment, you should tune more than just your learning rate and epoch.\n",
        "Choose at least 2 hyperparameters that are unrelated to the optimizer."
      ]
    },
    {
      "cell_type": "markdown",
      "source": [
        "For my model 1, I increased the number of layers in the GRU (to 2) hoping for improvement. Since this would increase the number of weights in the network, I also increased the number of epochs to 8.\n",
        "\n",
        "Here is the result: Epoch 8;  Loss 0.0492; Train Acc 98.3919; Val Acc 96.9372\n",
        "\n",
        "The performance is great, and it appears not overfitting the training set since the validation accuracy is as good as the training accuracy for most of the epochs (sometimes even better)."
      ],
      "metadata": {
        "id": "WAP27Ja85rLf"
      }
    },
    {
      "cell_type": "markdown",
      "source": [
        "For my model 2, I decided to try again with a higher learning rate (5e-4) to avoid getting stuck in local minima and speed up convergence. I also increased the number of epochs to 10.\n",
        "\n",
        "Here is the result: Epoch 10; Loss 0.0380; Train Acc 98.9390; Val Acc 97.2960\n",
        "\n",
        "The performance is even better, where loss decrease to 0.08 merely on the 3 epoch (where model 1 took 10). and the final train and val accuracy are both higher than model 1."
      ],
      "metadata": {
        "id": "O0S_bwm47cDb"
      }
    },
    {
      "cell_type": "markdown",
      "source": [
        "For my model 3, I used the below network RNN4 ( used a Concatenate max-pooled and avg-pooled of the GRU output as the input to the fully connected layer) and changed number of opochs to 8 since 10 takes too much time and the performence is not increasing as much after 5 opochs.\n",
        "\n",
        "Here is the result: Epoch 8; Loss 0.0374; Train Acc 98.8229; Val Acc 97.0404\n",
        "\n",
        "Even though the final validation accuracy is not as great as model 2, but the loss is better. And model 3 used only 8 epochs instead of 10 opochs like model 2."
      ],
      "metadata": {
        "id": "OzbnM6paB_nk"
      }
    },
    {
      "cell_type": "markdown",
      "source": [
        "For my model 4, I still used RNN4; in addition, I increased the number of epochs to 10 to ensure there is enough of opochs.\n",
        "\n",
        "Here is the result: Epoch 10; Loss 0.0291; Train Acc 99.1048; Val Acc 97.7578\n",
        "\n",
        "The run time of model 4 is longer due to the addtional epochs. Performence wise, it is the best out of the four models."
      ],
      "metadata": {
        "id": "-7ITGJGTGzOX"
      }
    },
    {
      "cell_type": "code",
      "source": [
        "class RNN4(nn.Module):\n",
        "    def __init__(self, vocab_size, hidden_size, n_layers=1):\n",
        "        super(RNN4, self).__init__()\n",
        "\n",
        "        # Recurrent neural network (GRU)\n",
        "        self.rnn = nn.GRU(vocab_size, hidden_size, n_layers, batch_first=True)\n",
        "\n",
        "        # A fully connected layer with twice the hidden size due to concatenation\n",
        "        self.classifier = nn.Linear(hidden_size * 2, 2)  # *2 to handle concatenated features\n",
        "\n",
        "    def forward(self, x):\n",
        "        # One-hot encoding of input indices, assuming x is of shape [batch_size, seq_len]\n",
        "        one_hot = F.one_hot(x, num_classes=self.rnn.input_size).float()\n",
        "\n",
        "        # Get the output from the GRU layer\n",
        "        output, _ = self.rnn(one_hot)  # Shape: [batch_size, seq_len, hidden_size]\n",
        "\n",
        "        # Max pooling across sequence length (dim=1)\n",
        "        max_pool = torch.max(output, dim=1)[0]  # Shape: [batch_size, hidden_size]\n",
        "\n",
        "        # Average pooling across sequence length (dim=1)\n",
        "        avg_pool = torch.mean(output, dim=1)  # Shape: [batch_size, hidden_size]\n",
        "\n",
        "        # Concatenate max-pooled and avg-pooled representations\n",
        "        out = torch.cat((max_pool, avg_pool), dim=1)  # Shape: [batch_size, hidden_size * 2]\n",
        "\n",
        "        # Classifier: Predict SPAM/HAM\n",
        "        out = self.classifier(out)  # Shape: [batch_size, 2]\n",
        "\n",
        "        return out\n",
        "\n",
        "\n",
        "# Initialize the model with a smaller hidden size\n",
        "vocab_size = len(itos)\n",
        "model4 = RNN4(vocab_size=vocab_size, hidden_size=162, n_layers=2)\n",
        "\n",
        "# Train the model\n",
        "train_rnn_network(model4, train_loader, val_loader, num_epochs=10, learning_rate=5e-4)\n"
      ],
      "metadata": {
        "colab": {
          "base_uri": "https://localhost:8080/",
          "height": 661
        },
        "id": "hwZr3uSN0Msu",
        "outputId": "cad4d463-a60d-43f8-934b-f0c642264de2"
      },
      "execution_count": null,
      "outputs": [
        {
          "output_type": "stream",
          "name": "stdout",
          "text": [
            "Epoch 1; Loss 0.2877; Train Acc 87.6824; Val Acc 95.7848\n",
            "Epoch 2; Loss 0.1122; Train Acc 96.2367; Val Acc 97.5785\n",
            "Epoch 3; Loss 0.0983; Train Acc 96.5849; Val Acc 97.5785\n",
            "Epoch 4; Loss 0.0843; Train Acc 96.9330; Val Acc 97.8475\n",
            "Epoch 5; Loss 0.0738; Train Acc 97.3806; Val Acc 96.6816\n",
            "Epoch 6; Loss 0.0614; Train Acc 98.0106; Val Acc 97.8475\n",
            "Epoch 7; Loss 0.0553; Train Acc 97.9443; Val Acc 97.7578\n",
            "Epoch 8; Loss 0.0399; Train Acc 98.5577; Val Acc 98.1166\n",
            "Epoch 9; Loss 0.0339; Train Acc 98.9058; Val Acc 97.7578\n",
            "Epoch 10; Loss 0.0291; Train Acc 99.1048; Val Acc 97.7578\n"
          ]
        },
        {
          "output_type": "display_data",
          "data": {
            "text/plain": [
              "<Figure size 1000x500 with 2 Axes>"
            ],
            "image/png": "[encoded data removed]"
          },
          "metadata": {}
        }
      ]
    },
    {
      "cell_type": "code",
      "execution_count": null,
      "metadata": {
        "collapsed": true,
        "id": "A2GEWfDca91G",
        "jupyter": {
          "outputs_hidden": true
        }
      },
      "outputs": [],
      "source": [
        "torch.save(model4.state_dict(), \"/content/fourth_model\")"
      ]
    },
    {
      "cell_type": "markdown",
      "metadata": {
        "id": "v7DY56rKa91I"
      },
      "source": [
        "### Part (d) [2 pt]\n",
        "\n",
        "Before we deploy a machine learning model, we usually want to have a better understanding\n",
        "of how our model performs beyond its validation accuracy. An important metric to track is\n",
        "*how well our model performs in certain subsets of the data*.\n",
        "\n",
        "In particular, what is the model's error rate amongst data with negative labels?\n",
        "This is called the **false positive rate**.\n",
        "\n",
        "What about the model's error rate amongst data with positive labels?\n",
        "This is called the **false negative rate**.\n",
        "\n",
        "Report your final model's false positive and false negative rate across the\n",
        "validation set."
      ]
    },
    {
      "cell_type": "code",
      "execution_count": null,
      "metadata": {
        "collapsed": true,
        "id": "7ggbQSdba91J",
        "jupyter": {
          "outputs_hidden": true
        },
        "colab": {
          "base_uri": "https://localhost:8080/"
        },
        "outputId": "a3e1d971-f67c-4c5a-a5e6-23f4636fe9ff"
      },
      "outputs": [
        {
          "output_type": "stream",
          "name": "stdout",
          "text": [
            "False Positive Rate (FPR): 0.0145\n",
            "False Negative Rate (FNR): 0.0738\n"
          ]
        }
      ],
      "source": [
        "def evaluate_fpr_fnr(model, loader):\n",
        "    with torch.no_grad():  # Disable gradient computation for efficiency\n",
        "        false_positives = 0\n",
        "        false_negatives = 0\n",
        "        true_positives = 0\n",
        "        true_negatives = 0\n",
        "\n",
        "        for sms, labels in loader:\n",
        "            # Obtain predictions\n",
        "            outputs = model(sms)\n",
        "            _, predicted = torch.max(outputs, 1)\n",
        "\n",
        "            # Count false positives and true negatives (negative label is 0)\n",
        "            false_positives += ((predicted == 1) & (labels == 0)).sum().item()\n",
        "            true_negatives += ((predicted == 0) & (labels == 0)).sum().item()\n",
        "\n",
        "            # Count false negatives and true positives (positive label is 1)\n",
        "            false_negatives += ((predicted == 0) & (labels == 1)).sum().item()\n",
        "            true_positives += ((predicted == 1) & (labels == 1)).sum().item()\n",
        "\n",
        "        # Calculate FPR and FNR\n",
        "        fpr = false_positives / (true_negatives + false_positives) if (true_negatives + false_positives) > 0 else 0\n",
        "        fnr = false_negatives / (true_positives + false_negatives) if (true_positives + false_negatives) > 0 else 0\n",
        "\n",
        "        print(f\"False Positive Rate (FPR): {fpr:.4f}\")\n",
        "        print(f\"False Negative Rate (FNR): {fnr:.4f}\")\n",
        "\n",
        "\n",
        "# Run the evaluation on your final model\n",
        "evaluate_fpr_fnr(model4, val_loader)\n"
      ]
    },
    {
      "cell_type": "markdown",
      "metadata": {
        "id": "N1iRteb3a91O"
      },
      "source": [
        "### Part (e) [2 pt]\n",
        "\n",
        "The impact of a false positive vs a false negative can be drastically different.\n",
        "If our spam detection algorithm was deployed on your phone, what is the impact\n",
        "of a false positive on the phone's user? What is the impact of a false negative?"
      ]
    },
    {
      "cell_type": "markdown",
      "source": [
        "With false negatives, the spam messages would show as non-spam to the user, which would just take up space in the user's message inbox.\n",
        "With false positives, the non-spam messages would show as spam message, which could cause the user's to miss potentially important information."
      ],
      "metadata": {
        "id": "_zr_uxdWowSo"
      }
    },
    {
      "cell_type": "markdown",
      "source": [
        "With false negatives, the spam messages would show as non-spam to the user, which would just take up space in the user's message inbox. This would be  annoying to users, who have to deletie the spam message themselves.\n",
        "\n",
        "With false positives, the non-spam messages would show as spam message, which could cause the user's to miss potentially important information."
      ],
      "metadata": {
        "id": "oOUbPVhGoyHm"
      }
    },
    {
      "cell_type": "markdown",
      "metadata": {
        "id": "Gznefulsa91V"
      },
      "source": [
        "## Part 4. Evaluation [11 pt]\n",
        "\n",
        "### Part (a) [1 pt]\n",
        "\n",
        "Report the final test accuracy of your model."
      ]
    },
    {
      "cell_type": "code",
      "execution_count": null,
      "metadata": {
        "collapsed": true,
        "id": "D5L5D-A1a91W",
        "jupyter": {
          "outputs_hidden": true
        },
        "colab": {
          "base_uri": "https://localhost:8080/"
        },
        "outputId": "18ffa763-0ee4-4259-842a-6dbf8add249e"
      },
      "outputs": [
        {
          "output_type": "stream",
          "name": "stdout",
          "text": [
            "The final test accuracy is 97.66816143497758.\n"
          ]
        }
      ],
      "source": [
        "print(\"The final test accuracy is {}.\".format(get_accuracy(model4, test_loader)))"
      ]
    },
    {
      "cell_type": "markdown",
      "metadata": {
        "id": "6Hjmd8rca91Y"
      },
      "source": [
        "### Part (b) [3 pt]\n",
        "\n",
        "Report the false positive rate and false negative rate of your model across the test set."
      ]
    },
    {
      "cell_type": "code",
      "execution_count": null,
      "metadata": {
        "collapsed": true,
        "id": "GFiAKztJa91Z",
        "jupyter": {
          "outputs_hidden": true
        },
        "colab": {
          "base_uri": "https://localhost:8080/"
        },
        "outputId": "e86f70da-e3e1-49bf-9c28-fb5c7751cddb"
      },
      "outputs": [
        {
          "output_type": "stream",
          "name": "stdout",
          "text": [
            "False Positive Rate (FPR): 0.0124\n",
            "False Negative Rate (FNR): 0.0933\n"
          ]
        }
      ],
      "source": [
        "evaluate_fpr_fnr(model4, test_loader)"
      ]
    },
    {
      "cell_type": "markdown",
      "metadata": {
        "id": "0jGHtQFpa91b"
      },
      "source": [
        "### Part (c) [3 pt]\n",
        "\n",
        "What is your model's prediction of the **probability** that\n",
        "the SMS message \"machine learning is sooo cool!\" is spam?\n",
        "\n",
        "Hint: To begin, use `stoi` to look up the index\n",
        "of each character in the vocabulary."
      ]
    },
    {
      "cell_type": "code",
      "execution_count": null,
      "metadata": {
        "collapsed": true,
        "id": "h_2nSJq8a91b",
        "jupyter": {
          "outputs_hidden": true
        },
        "colab": {
          "base_uri": "https://localhost:8080/"
        },
        "outputId": "b7a853fb-01ee-49d0-943c-dfbe34d2f053"
      },
      "outputs": [
        {
          "output_type": "stream",
          "name": "stdout",
          "text": [
            "Probability that the message is spam: 0.0186\n"
          ]
        }
      ],
      "source": [
        "msg = \"machine learning is sooo cool!\"\n",
        "\n",
        "# Step 1: Convert the message to indices\n",
        "indices = [stoi[char] for char in msg if char in stoi]  # Ignore characters not in the vocabulary\n",
        "\n",
        "# Step 2: Convert indices to a tensor and add a batch dimension\n",
        "input_tensor = torch.tensor(indices).unsqueeze(0)  # Shape: [1, seq_len]\n",
        "\n",
        "# Step 3: Pass the tensor through the model to get logits\n",
        "with torch.no_grad():  # Disable gradient calculation for inference\n",
        "    logits = model4(input_tensor)\n",
        "\n",
        "# Step 4: Apply softmax to get probabilities\n",
        "probs = F.softmax(logits, dim=1)\n",
        "\n",
        "# Step 5: Extract and print the spam probability\n",
        "spam_probability = probs[0, 1].item()  # Assuming index 1 corresponds to SPAM\n",
        "print(f\"Probability that the message is spam: {spam_probability:.4f}\")\n"
      ]
    },
    {
      "cell_type": "markdown",
      "metadata": {
        "id": "QD1zgYJpa91f"
      },
      "source": [
        "### Part (d) [4 pt]\n",
        "\n",
        "Do you think detecting spam is an easy or difficult task?\n",
        "\n",
        "Since machine learning models are expensive to train and deploy, it is very\n",
        "important to compare our models against baseline models: a simple\n",
        "model that is easy to build and inexpensive to run that we can compare our\n",
        "recurrent neural network model against.\n",
        "\n",
        "Explain how you might build a simple baseline model. This baseline model\n",
        "can be a simple neural network (with very few weights), a hand-written algorithm,\n",
        "or any other strategy that is easy to build and test.\n",
        "\n",
        "**Do not actually build a baseline model. Instead, provide instructions on\n",
        "how to build it.**"
      ]
    },
    {
      "cell_type": "markdown",
      "source": [
        "There are many exiting methods to detect spam messages/emails; in addition, this topic also had many years to resaerch. Companies like Google and Microsoft have well tested, advanced spam blocking engines that operate in places such as their email services. Even though from time to time there is missclassification, but overall they work very well. Hence, I believe spam detection is a relatively easy tasks, especially when compared to tasks such as generating novel images/text, and medical condition detection, etc.\n",
        "\n",
        "A simple baseline model that we could build is to make a list of commonly used punctuation, words, and attached links format (e.g. lots of spam message have links that starts with 3 numbers then 2 letters) from the training set or experts. The list could then be used to classify other messages as spam if there are a certain amount of elements from that list used in the message. For example, we can scan incoming emails for suspicious words (ex. \"free\" or \"prince\") and decision if it should be considered as spam.\n"
      ],
      "metadata": {
        "id": "IAE9nuRspUfX"
      }
    }
  ],
  "metadata": {
    "colab": {
      "provenance": []
    },
    "kernelspec": {
      "display_name": "Python 3 (ipykernel)",
      "language": "python",
      "name": "python3"
    },
    "language_info": {
      "codemirror_mode": {
        "name": "ipython",
        "version": 3
      },
      "file_extension": ".py",
      "mimetype": "text/x-python",
      "name": "python",
      "nbconvert_exporter": "python",
      "pygments_lexer": "ipython3",
      "version": "3.9.18"
    }
  },
  "nbformat": 4,
  "nbformat_minor": 0
}